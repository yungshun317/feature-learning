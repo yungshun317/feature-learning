{
 "cells": [
  {
   "cell_type": "code",
   "execution_count": 1,
   "metadata": {},
   "outputs": [
    {
     "name": "stderr",
     "output_type": "stream",
     "text": [
      "/home/yungshun/.virtualenvs/yungshun-py3/lib/python3.5/importlib/_bootstrap.py:222: RuntimeWarning: numpy.dtype size changed, may indicate binary incompatibility. Expected 96, got 88\n",
      "  return f(*args, **kwds)\n",
      "/home/yungshun/.virtualenvs/yungshun-py3/lib/python3.5/importlib/_bootstrap.py:222: RuntimeWarning: numpy.dtype size changed, may indicate binary incompatibility. Expected 96, got 88\n",
      "  return f(*args, **kwds)\n"
     ]
    }
   ],
   "source": [
    "import logging, gensim\n",
    "from gensim.models import word2vec, Word2Vec"
   ]
  },
  {
   "cell_type": "code",
   "execution_count": 2,
   "metadata": {},
   "outputs": [],
   "source": [
    "logging.basicConfig(format='%(asctime)s : %(levelname)s : %(message)s', level=logging.INFO)"
   ]
  },
  {
   "cell_type": "markdown",
   "metadata": {},
   "source": [
    "# Text8Corpus"
   ]
  },
  {
   "cell_type": "markdown",
   "metadata": {},
   "source": [
    "## Word embeddings"
   ]
  },
  {
   "cell_type": "markdown",
   "metadata": {},
   "source": [
    "We can use scikit-learn to embed documents into a vectorized format by regarding tokens (words, n-grams) as features and documents as having a certain amount of these tokens. But this method does not teach the machine what words mean in context.\n",
    "\n",
    "Word embeddings are one approach to helping a machine understand context. A <b>word embedding</b> is a vectorization of a single word in a feature space of n dimensions, where n represents the number of latent characteristics that a word can have. This means that every word in the vocabulary is not longer, just a string, but a vector in and of itself. And with these vectorizations, we can tackle the question, such as <i>What would you get if we took a king, removed the man aspect of it, and replaced it with a woman?</i> by performing the following operation: <i>king</i> - <i>man</i> + <i>woman</i>.\n",
    "\n",
    "1. Context (in the form of word embeddings) changes from corpus to corpus as does word meanings. This means that static word embeddings by themselves are not always the most useful\n",
    "2. Word embeddings are dependent on the corpus that they were learned from"
   ]
  },
  {
   "cell_type": "code",
   "execution_count": 3,
   "metadata": {},
   "outputs": [],
   "source": [
    "sentences = word2vec.Text8Corpus('/home/yungshun/workspace/py3/feature-learning/datasets/text8corpus/text8')"
   ]
  },
  {
   "cell_type": "code",
   "execution_count": 4,
   "metadata": {},
   "outputs": [
    {
     "name": "stderr",
     "output_type": "stream",
     "text": [
      "2018-09-19 11:10:15,969 : INFO : collecting all words and their counts\n",
      "2018-09-19 11:10:15,988 : INFO : PROGRESS: at sentence #0, processed 0 words, keeping 0 word types\n",
      "2018-09-19 11:10:22,732 : INFO : collected 253854 word types from a corpus of 17005207 raw words and 1701 sentences\n",
      "2018-09-19 11:10:22,733 : INFO : Loading a fresh vocabulary\n",
      "2018-09-19 11:10:23,747 : INFO : effective_min_count=1 retains 253854 unique words (100% of original 253854, drops 0)\n",
      "2018-09-19 11:10:23,748 : INFO : effective_min_count=1 leaves 17005207 word corpus (100% of original 17005207, drops 0)\n",
      "2018-09-19 11:10:24,569 : INFO : deleting the raw counts dictionary of 253854 items\n",
      "2018-09-19 11:10:24,583 : INFO : sample=0.001 downsamples 36 most-common words\n",
      "2018-09-19 11:10:24,585 : INFO : downsampling leaves estimated 12819131 word corpus (75.4% of prior 17005207)\n",
      "2018-09-19 11:10:25,577 : INFO : estimated required memory for 253854 words and 20 dimensions: 167543640 bytes\n",
      "2018-09-19 11:10:25,578 : INFO : resetting layer weights\n",
      "2018-09-19 11:10:28,826 : INFO : training model with 3 workers on 253854 vocabulary and 20 features, using sg=0 hs=0 sample=0.001 negative=5 window=5\n",
      "2018-09-19 11:10:29,848 : INFO : EPOCH 1 - PROGRESS: at 4.23% examples, 535340 words/s, in_qsize 5, out_qsize 0\n",
      "2018-09-19 11:10:30,849 : INFO : EPOCH 1 - PROGRESS: at 9.17% examples, 579095 words/s, in_qsize 6, out_qsize 0\n",
      "2018-09-19 11:10:31,849 : INFO : EPOCH 1 - PROGRESS: at 14.46% examples, 611529 words/s, in_qsize 5, out_qsize 0\n",
      "2018-09-19 11:10:32,867 : INFO : EPOCH 1 - PROGRESS: at 19.93% examples, 630329 words/s, in_qsize 6, out_qsize 0\n",
      "2018-09-19 11:10:33,882 : INFO : EPOCH 1 - PROGRESS: at 24.75% examples, 626635 words/s, in_qsize 5, out_qsize 0\n",
      "2018-09-19 11:10:34,889 : INFO : EPOCH 1 - PROGRESS: at 29.34% examples, 620538 words/s, in_qsize 5, out_qsize 0\n",
      "2018-09-19 11:10:35,902 : INFO : EPOCH 1 - PROGRESS: at 33.92% examples, 615990 words/s, in_qsize 5, out_qsize 0\n",
      "2018-09-19 11:10:36,904 : INFO : EPOCH 1 - PROGRESS: at 38.68% examples, 615258 words/s, in_qsize 5, out_qsize 0\n",
      "2018-09-19 11:10:37,908 : INFO : EPOCH 1 - PROGRESS: at 43.39% examples, 613925 words/s, in_qsize 5, out_qsize 1\n",
      "2018-09-19 11:10:38,919 : INFO : EPOCH 1 - PROGRESS: at 48.15% examples, 613288 words/s, in_qsize 5, out_qsize 0\n",
      "2018-09-19 11:10:39,949 : INFO : EPOCH 1 - PROGRESS: at 52.85% examples, 610976 words/s, in_qsize 6, out_qsize 1\n",
      "2018-09-19 11:10:40,960 : INFO : EPOCH 1 - PROGRESS: at 58.02% examples, 615050 words/s, in_qsize 5, out_qsize 0\n",
      "2018-09-19 11:10:41,969 : INFO : EPOCH 1 - PROGRESS: at 63.37% examples, 620217 words/s, in_qsize 5, out_qsize 0\n",
      "2018-09-19 11:10:42,982 : INFO : EPOCH 1 - PROGRESS: at 68.37% examples, 621034 words/s, in_qsize 5, out_qsize 0\n",
      "2018-09-19 11:10:43,990 : INFO : EPOCH 1 - PROGRESS: at 72.60% examples, 615651 words/s, in_qsize 5, out_qsize 0\n",
      "2018-09-19 11:10:45,000 : INFO : EPOCH 1 - PROGRESS: at 77.43% examples, 614487 words/s, in_qsize 5, out_qsize 0\n",
      "2018-09-19 11:10:46,006 : INFO : EPOCH 1 - PROGRESS: at 81.60% examples, 609440 words/s, in_qsize 6, out_qsize 0\n",
      "2018-09-19 11:10:47,016 : INFO : EPOCH 1 - PROGRESS: at 84.66% examples, 597121 words/s, in_qsize 5, out_qsize 0\n",
      "2018-09-19 11:10:48,037 : INFO : EPOCH 1 - PROGRESS: at 89.48% examples, 597732 words/s, in_qsize 5, out_qsize 0\n",
      "2018-09-19 11:10:49,044 : INFO : EPOCH 1 - PROGRESS: at 93.83% examples, 595276 words/s, in_qsize 6, out_qsize 0\n",
      "2018-09-19 11:10:50,058 : INFO : EPOCH 1 - PROGRESS: at 98.65% examples, 595822 words/s, in_qsize 5, out_qsize 0\n",
      "2018-09-19 11:10:50,322 : INFO : worker thread finished; awaiting finish of 2 more threads\n",
      "2018-09-19 11:10:50,332 : INFO : worker thread finished; awaiting finish of 1 more threads\n",
      "2018-09-19 11:10:50,338 : INFO : worker thread finished; awaiting finish of 0 more threads\n",
      "2018-09-19 11:10:50,339 : INFO : EPOCH - 1 : training on 17005207 raw words (12818903 effective words) took 21.5s, 596016 effective words/s\n",
      "2018-09-19 11:10:51,374 : INFO : EPOCH 2 - PROGRESS: at 3.53% examples, 447048 words/s, in_qsize 6, out_qsize 0\n",
      "2018-09-19 11:10:52,386 : INFO : EPOCH 2 - PROGRESS: at 7.82% examples, 491601 words/s, in_qsize 5, out_qsize 0\n",
      "2018-09-19 11:10:53,398 : INFO : EPOCH 2 - PROGRESS: at 12.40% examples, 520619 words/s, in_qsize 5, out_qsize 0\n",
      "2018-09-19 11:10:54,405 : INFO : EPOCH 2 - PROGRESS: at 17.05% examples, 537767 words/s, in_qsize 5, out_qsize 1\n",
      "2018-09-19 11:10:55,425 : INFO : EPOCH 2 - PROGRESS: at 21.81% examples, 549890 words/s, in_qsize 5, out_qsize 0\n",
      "2018-09-19 11:10:56,431 : INFO : EPOCH 2 - PROGRESS: at 25.22% examples, 531010 words/s, in_qsize 5, out_qsize 0\n",
      "2018-09-19 11:10:57,451 : INFO : EPOCH 2 - PROGRESS: at 30.04% examples, 543054 words/s, in_qsize 5, out_qsize 0\n",
      "2018-09-19 11:10:58,455 : INFO : EPOCH 2 - PROGRESS: at 34.80% examples, 551922 words/s, in_qsize 5, out_qsize 0\n",
      "2018-09-19 11:10:59,464 : INFO : EPOCH 2 - PROGRESS: at 39.56% examples, 557965 words/s, in_qsize 4, out_qsize 0\n",
      "2018-09-19 11:11:00,476 : INFO : EPOCH 2 - PROGRESS: at 42.92% examples, 544854 words/s, in_qsize 6, out_qsize 0\n",
      "2018-09-19 11:11:01,501 : INFO : EPOCH 2 - PROGRESS: at 46.85% examples, 540211 words/s, in_qsize 6, out_qsize 0\n",
      "2018-09-19 11:11:02,512 : INFO : EPOCH 2 - PROGRESS: at 51.21% examples, 541420 words/s, in_qsize 5, out_qsize 0\n",
      "2018-09-19 11:11:03,521 : INFO : EPOCH 2 - PROGRESS: at 56.44% examples, 551333 words/s, in_qsize 5, out_qsize 1\n",
      "2018-09-19 11:11:04,523 : INFO : EPOCH 2 - PROGRESS: at 61.02% examples, 553995 words/s, in_qsize 5, out_qsize 0\n",
      "2018-09-19 11:11:05,530 : INFO : EPOCH 2 - PROGRESS: at 65.02% examples, 550827 words/s, in_qsize 4, out_qsize 1\n",
      "2018-09-19 11:11:06,535 : INFO : EPOCH 2 - PROGRESS: at 67.31% examples, 534823 words/s, in_qsize 5, out_qsize 0\n",
      "2018-09-19 11:11:07,557 : INFO : EPOCH 2 - PROGRESS: at 69.78% examples, 521528 words/s, in_qsize 5, out_qsize 0\n",
      "2018-09-19 11:11:08,566 : INFO : EPOCH 2 - PROGRESS: at 72.78% examples, 513851 words/s, in_qsize 5, out_qsize 0\n",
      "2018-09-19 11:11:09,574 : INFO : EPOCH 2 - PROGRESS: at 77.95% examples, 520556 words/s, in_qsize 5, out_qsize 0\n",
      "2018-09-19 11:11:10,594 : INFO : EPOCH 2 - PROGRESS: at 83.30% examples, 528120 words/s, in_qsize 6, out_qsize 0\n",
      "2018-09-19 11:11:11,595 : INFO : EPOCH 2 - PROGRESS: at 88.42% examples, 534187 words/s, in_qsize 5, out_qsize 0\n",
      "2018-09-19 11:11:12,613 : INFO : EPOCH 2 - PROGRESS: at 93.12% examples, 536698 words/s, in_qsize 5, out_qsize 0\n",
      "2018-09-19 11:11:13,620 : INFO : EPOCH 2 - PROGRESS: at 97.88% examples, 539491 words/s, in_qsize 6, out_qsize 0\n",
      "2018-09-19 11:11:14,053 : INFO : worker thread finished; awaiting finish of 2 more threads\n",
      "2018-09-19 11:11:14,057 : INFO : worker thread finished; awaiting finish of 1 more threads\n",
      "2018-09-19 11:11:14,062 : INFO : worker thread finished; awaiting finish of 0 more threads\n",
      "2018-09-19 11:11:14,063 : INFO : EPOCH - 2 : training on 17005207 raw words (12818499 effective words) took 23.7s, 540788 effective words/s\n",
      "2018-09-19 11:11:15,077 : INFO : EPOCH 3 - PROGRESS: at 4.59% examples, 584074 words/s, in_qsize 5, out_qsize 0\n",
      "2018-09-19 11:11:16,079 : INFO : EPOCH 3 - PROGRESS: at 8.58% examples, 543991 words/s, in_qsize 4, out_qsize 1\n",
      "2018-09-19 11:11:17,087 : INFO : EPOCH 3 - PROGRESS: at 12.11% examples, 512086 words/s, in_qsize 5, out_qsize 0\n",
      "2018-09-19 11:11:18,094 : INFO : EPOCH 3 - PROGRESS: at 16.34% examples, 518225 words/s, in_qsize 6, out_qsize 0\n",
      "2018-09-19 11:11:19,097 : INFO : EPOCH 3 - PROGRESS: at 20.11% examples, 510503 words/s, in_qsize 4, out_qsize 1\n",
      "2018-09-19 11:11:20,098 : INFO : EPOCH 3 - PROGRESS: at 24.04% examples, 510188 words/s, in_qsize 5, out_qsize 0\n",
      "2018-09-19 11:11:21,115 : INFO : EPOCH 3 - PROGRESS: at 27.98% examples, 508664 words/s, in_qsize 5, out_qsize 0\n",
      "2018-09-19 11:11:22,133 : INFO : EPOCH 3 - PROGRESS: at 31.75% examples, 505075 words/s, in_qsize 5, out_qsize 0\n",
      "2018-09-19 11:11:23,146 : INFO : EPOCH 3 - PROGRESS: at 34.98% examples, 494852 words/s, in_qsize 6, out_qsize 0\n",
      "2018-09-19 11:11:24,159 : INFO : EPOCH 3 - PROGRESS: at 39.27% examples, 499854 words/s, in_qsize 6, out_qsize 0\n",
      "2018-09-19 11:11:25,171 : INFO : EPOCH 3 - PROGRESS: at 42.62% examples, 493167 words/s, in_qsize 5, out_qsize 3\n"
     ]
    },
    {
     "name": "stderr",
     "output_type": "stream",
     "text": [
      "2018-09-19 11:11:26,181 : INFO : EPOCH 3 - PROGRESS: at 46.15% examples, 489472 words/s, in_qsize 5, out_qsize 0\n",
      "2018-09-19 11:11:27,203 : INFO : EPOCH 3 - PROGRESS: at 49.27% examples, 482068 words/s, in_qsize 3, out_qsize 2\n",
      "2018-09-19 11:11:28,220 : INFO : EPOCH 3 - PROGRESS: at 51.85% examples, 470886 words/s, in_qsize 5, out_qsize 0\n",
      "2018-09-19 11:11:29,255 : INFO : EPOCH 3 - PROGRESS: at 55.09% examples, 466443 words/s, in_qsize 4, out_qsize 1\n",
      "2018-09-19 11:11:30,275 : INFO : EPOCH 3 - PROGRESS: at 58.79% examples, 466393 words/s, in_qsize 5, out_qsize 0\n",
      "2018-09-19 11:11:31,312 : INFO : EPOCH 3 - PROGRESS: at 62.20% examples, 463784 words/s, in_qsize 5, out_qsize 1\n",
      "2018-09-19 11:11:32,313 : INFO : EPOCH 3 - PROGRESS: at 65.90% examples, 464304 words/s, in_qsize 4, out_qsize 1\n",
      "2018-09-19 11:11:33,329 : INFO : EPOCH 3 - PROGRESS: at 70.19% examples, 468441 words/s, in_qsize 6, out_qsize 0\n",
      "2018-09-19 11:11:34,336 : INFO : EPOCH 3 - PROGRESS: at 74.84% examples, 474599 words/s, in_qsize 4, out_qsize 1\n",
      "2018-09-19 11:11:35,353 : INFO : EPOCH 3 - PROGRESS: at 79.54% examples, 479479 words/s, in_qsize 5, out_qsize 0\n",
      "2018-09-19 11:11:36,355 : INFO : EPOCH 3 - PROGRESS: at 83.95% examples, 483309 words/s, in_qsize 4, out_qsize 1\n",
      "2018-09-19 11:11:37,374 : INFO : EPOCH 3 - PROGRESS: at 88.54% examples, 487414 words/s, in_qsize 5, out_qsize 0\n",
      "2018-09-19 11:11:38,382 : INFO : EPOCH 3 - PROGRESS: at 93.24% examples, 491909 words/s, in_qsize 5, out_qsize 0\n",
      "2018-09-19 11:11:39,391 : INFO : EPOCH 3 - PROGRESS: at 97.71% examples, 494718 words/s, in_qsize 5, out_qsize 0\n",
      "2018-09-19 11:11:39,875 : INFO : worker thread finished; awaiting finish of 2 more threads\n",
      "2018-09-19 11:11:39,876 : INFO : worker thread finished; awaiting finish of 1 more threads\n",
      "2018-09-19 11:11:39,886 : INFO : worker thread finished; awaiting finish of 0 more threads\n",
      "2018-09-19 11:11:39,894 : INFO : EPOCH - 3 : training on 17005207 raw words (12819282 effective words) took 25.8s, 496409 effective words/s\n",
      "2018-09-19 11:11:40,922 : INFO : EPOCH 4 - PROGRESS: at 4.41% examples, 557148 words/s, in_qsize 5, out_qsize 0\n",
      "2018-09-19 11:11:41,929 : INFO : EPOCH 4 - PROGRESS: at 8.41% examples, 529417 words/s, in_qsize 5, out_qsize 0\n",
      "2018-09-19 11:11:42,934 : INFO : EPOCH 4 - PROGRESS: at 12.99% examples, 547063 words/s, in_qsize 6, out_qsize 0\n",
      "2018-09-19 11:11:43,944 : INFO : EPOCH 4 - PROGRESS: at 17.46% examples, 551913 words/s, in_qsize 5, out_qsize 0\n",
      "2018-09-19 11:11:44,958 : INFO : EPOCH 4 - PROGRESS: at 21.58% examples, 545393 words/s, in_qsize 5, out_qsize 0\n",
      "2018-09-19 11:11:45,966 : INFO : EPOCH 4 - PROGRESS: at 26.04% examples, 549825 words/s, in_qsize 5, out_qsize 0\n",
      "2018-09-19 11:11:46,982 : INFO : EPOCH 4 - PROGRESS: at 30.16% examples, 546242 words/s, in_qsize 5, out_qsize 0\n",
      "2018-09-19 11:11:47,998 : INFO : EPOCH 4 - PROGRESS: at 34.04% examples, 539845 words/s, in_qsize 6, out_qsize 1\n",
      "2018-09-19 11:11:49,002 : INFO : EPOCH 4 - PROGRESS: at 37.92% examples, 535244 words/s, in_qsize 5, out_qsize 0\n",
      "2018-09-19 11:11:50,009 : INFO : EPOCH 4 - PROGRESS: at 41.86% examples, 531903 words/s, in_qsize 5, out_qsize 0\n",
      "2018-09-19 11:11:51,022 : INFO : EPOCH 4 - PROGRESS: at 45.50% examples, 525615 words/s, in_qsize 6, out_qsize 0\n",
      "2018-09-19 11:11:52,029 : INFO : EPOCH 4 - PROGRESS: at 49.74% examples, 527103 words/s, in_qsize 6, out_qsize 0\n",
      "2018-09-19 11:11:53,032 : INFO : EPOCH 4 - PROGRESS: at 54.09% examples, 529727 words/s, in_qsize 5, out_qsize 0\n",
      "2018-09-19 11:11:54,038 : INFO : EPOCH 4 - PROGRESS: at 58.38% examples, 530984 words/s, in_qsize 5, out_qsize 0\n",
      "2018-09-19 11:11:55,048 : INFO : EPOCH 4 - PROGRESS: at 63.08% examples, 535499 words/s, in_qsize 5, out_qsize 0\n",
      "2018-09-19 11:11:56,053 : INFO : EPOCH 4 - PROGRESS: at 67.67% examples, 538553 words/s, in_qsize 5, out_qsize 0\n",
      "2018-09-19 11:11:57,069 : INFO : EPOCH 4 - PROGRESS: at 72.02% examples, 539232 words/s, in_qsize 4, out_qsize 1\n",
      "2018-09-19 11:11:58,072 : INFO : EPOCH 4 - PROGRESS: at 76.19% examples, 538437 words/s, in_qsize 6, out_qsize 0\n",
      "2018-09-19 11:11:59,073 : INFO : EPOCH 4 - PROGRESS: at 80.25% examples, 537011 words/s, in_qsize 4, out_qsize 0\n",
      "2018-09-19 11:12:00,075 : INFO : EPOCH 4 - PROGRESS: at 84.89% examples, 539863 words/s, in_qsize 5, out_qsize 0\n",
      "2018-09-19 11:12:01,076 : INFO : EPOCH 4 - PROGRESS: at 89.24% examples, 540856 words/s, in_qsize 5, out_qsize 0\n",
      "2018-09-19 11:12:02,077 : INFO : EPOCH 4 - PROGRESS: at 93.47% examples, 540714 words/s, in_qsize 4, out_qsize 1\n",
      "2018-09-19 11:12:03,078 : INFO : EPOCH 4 - PROGRESS: at 98.30% examples, 543801 words/s, in_qsize 5, out_qsize 0\n",
      "2018-09-19 11:12:03,430 : INFO : worker thread finished; awaiting finish of 2 more threads\n",
      "2018-09-19 11:12:03,442 : INFO : worker thread finished; awaiting finish of 1 more threads\n",
      "2018-09-19 11:12:03,451 : INFO : worker thread finished; awaiting finish of 0 more threads\n",
      "2018-09-19 11:12:03,452 : INFO : EPOCH - 4 : training on 17005207 raw words (12818540 effective words) took 23.5s, 544398 effective words/s\n",
      "2018-09-19 11:12:04,470 : INFO : EPOCH 5 - PROGRESS: at 4.06% examples, 517875 words/s, in_qsize 5, out_qsize 0\n",
      "2018-09-19 11:12:05,488 : INFO : EPOCH 5 - PROGRESS: at 8.35% examples, 525341 words/s, in_qsize 4, out_qsize 1\n",
      "2018-09-19 11:12:06,493 : INFO : EPOCH 5 - PROGRESS: at 12.17% examples, 512488 words/s, in_qsize 4, out_qsize 1\n",
      "2018-09-19 11:12:07,522 : INFO : EPOCH 5 - PROGRESS: at 16.40% examples, 515535 words/s, in_qsize 5, out_qsize 0\n",
      "2018-09-19 11:12:08,527 : INFO : EPOCH 5 - PROGRESS: at 20.28% examples, 511301 words/s, in_qsize 4, out_qsize 1\n",
      "2018-09-19 11:12:09,545 : INFO : EPOCH 5 - PROGRESS: at 24.51% examples, 515378 words/s, in_qsize 5, out_qsize 0\n",
      "2018-09-19 11:12:10,577 : INFO : EPOCH 5 - PROGRESS: at 28.45% examples, 512126 words/s, in_qsize 6, out_qsize 1\n",
      "2018-09-19 11:12:11,589 : INFO : EPOCH 5 - PROGRESS: at 32.45% examples, 512322 words/s, in_qsize 5, out_qsize 0\n",
      "2018-09-19 11:12:12,597 : INFO : EPOCH 5 - PROGRESS: at 36.98% examples, 519835 words/s, in_qsize 5, out_qsize 0\n",
      "2018-09-19 11:12:13,615 : INFO : EPOCH 5 - PROGRESS: at 41.62% examples, 526432 words/s, in_qsize 5, out_qsize 0\n",
      "2018-09-19 11:12:14,625 : INFO : EPOCH 5 - PROGRESS: at 46.03% examples, 529678 words/s, in_qsize 5, out_qsize 0\n",
      "2018-09-19 11:12:15,626 : INFO : EPOCH 5 - PROGRESS: at 50.21% examples, 530459 words/s, in_qsize 5, out_qsize 0\n",
      "2018-09-19 11:12:16,629 : INFO : EPOCH 5 - PROGRESS: at 54.50% examples, 532280 words/s, in_qsize 4, out_qsize 0\n",
      "2018-09-19 11:12:17,644 : INFO : EPOCH 5 - PROGRESS: at 58.50% examples, 530321 words/s, in_qsize 5, out_qsize 0\n",
      "2018-09-19 11:12:18,663 : INFO : EPOCH 5 - PROGRESS: at 62.61% examples, 529589 words/s, in_qsize 5, out_qsize 0\n",
      "2018-09-19 11:12:19,666 : INFO : EPOCH 5 - PROGRESS: at 67.14% examples, 532565 words/s, in_qsize 5, out_qsize 0\n",
      "2018-09-19 11:12:20,680 : INFO : EPOCH 5 - PROGRESS: at 71.78% examples, 535890 words/s, in_qsize 5, out_qsize 0\n",
      "2018-09-19 11:12:21,680 : INFO : EPOCH 5 - PROGRESS: at 76.48% examples, 539027 words/s, in_qsize 5, out_qsize 0\n",
      "2018-09-19 11:12:22,684 : INFO : EPOCH 5 - PROGRESS: at 80.83% examples, 539551 words/s, in_qsize 5, out_qsize 0\n",
      "2018-09-19 11:12:23,687 : INFO : EPOCH 5 - PROGRESS: at 85.07% examples, 539592 words/s, in_qsize 4, out_qsize 1\n",
      "2018-09-19 11:12:24,691 : INFO : EPOCH 5 - PROGRESS: at 89.01% examples, 538018 words/s, in_qsize 5, out_qsize 0\n",
      "2018-09-19 11:12:25,697 : INFO : EPOCH 5 - PROGRESS: at 93.12% examples, 537268 words/s, in_qsize 4, out_qsize 1\n",
      "2018-09-19 11:12:26,711 : INFO : EPOCH 5 - PROGRESS: at 97.59% examples, 538271 words/s, in_qsize 6, out_qsize 0\n",
      "2018-09-19 11:12:27,206 : INFO : worker thread finished; awaiting finish of 2 more threads\n",
      "2018-09-19 11:12:27,217 : INFO : worker thread finished; awaiting finish of 1 more threads\n",
      "2018-09-19 11:12:27,225 : INFO : worker thread finished; awaiting finish of 0 more threads\n",
      "2018-09-19 11:12:27,226 : INFO : EPOCH - 5 : training on 17005207 raw words (12820962 effective words) took 23.8s, 539525 effective words/s\n",
      "2018-09-19 11:12:27,228 : INFO : training on a 85026035 raw words (64096186 effective words) took 118.4s, 541349 effective words/s\n"
     ]
    }
   ],
   "source": [
    "# Instantiate a gensim module on the sentences from above\n",
    "# min_count allows us to ignore words that occur strictly less than this value\n",
    "# size is the dimension of words we wish to learn\n",
    "model = Word2Vec(sentences, min_count=1, size=20)"
   ]
  },
  {
   "cell_type": "code",
   "execution_count": null,
   "metadata": {},
   "outputs": [],
   "source": []
  }
 ],
 "metadata": {
  "kernelspec": {
   "display_name": "Python 3",
   "language": "python",
   "name": "python3"
  },
  "language_info": {
   "codemirror_mode": {
    "name": "ipython",
    "version": 3
   },
   "file_extension": ".py",
   "mimetype": "text/x-python",
   "name": "python",
   "nbconvert_exporter": "python",
   "pygments_lexer": "ipython3",
   "version": "3.5.2"
  }
 },
 "nbformat": 4,
 "nbformat_minor": 2
}
